{
 "cells": [
  {
   "cell_type": "markdown",
   "metadata": {},
   "source": [
    "This jupyter notebook contains code to answer some questions on the Court precedent Dataset used in my thesis."
   ]
  },
  {
   "cell_type": "code",
   "execution_count": 1,
   "metadata": {},
   "outputs": [],
   "source": [
    "import pandas as pd\n",
    "df_court = pd.read_pickle('court_decisions.pkl')"
   ]
  },
  {
   "cell_type": "markdown",
   "metadata": {},
   "source": [
    "How many court decision are in the dataset?"
   ]
  },
  {
   "cell_type": "code",
   "execution_count": 2,
   "metadata": {},
   "outputs": [
    {
     "data": {
      "text/plain": [
       "249581"
      ]
     },
     "execution_count": 2,
     "metadata": {},
     "output_type": "execute_result"
    }
   ],
   "source": [
    "len(df_court)"
   ]
  },
  {
   "cell_type": "markdown",
   "metadata": {
    "collapsed": false
   },
   "source": [
    "How many court decision include legal paragraphs(explicitly tagged)?"
   ]
  },
  {
   "cell_type": "code",
   "execution_count": 7,
   "metadata": {
    "collapsed": false
   },
   "outputs": [
    {
     "name": "stdout",
     "output_type": "stream",
     "text": [
      "                                    _id Entscheidungsdatum  \\\n",
      "0  {'$oid': '65c6877f380bbdc9006d66d0'}         13.06.2020   \n",
      "\n",
      "                                     Gericht Aktenzeichen  ECLI  \\\n",
      "0  Thüringer Oberverwaltungsgericht 3. Senat  3 EN 374/20  None   \n",
      "\n",
      "                                        Entscheidung  \\\n",
      "0  Leitsatz\\n\\n\\n1. Zu den rechtlichen Voraussetz...   \n",
      "\n",
      "                                                Norm  Bundesland  \\\n",
      "0  Art 2 Abs 1 GG,§ 6 CoronaVGrundV TH, § 47 Abs ...  thueringen   \n",
      "\n",
      "                                                Link original  \n",
      "0  https://landesrecht.thueringen.de/bsth/MWRE200...      NaN  \n"
     ]
    }
   ],
   "source": []
  },
  {
   "cell_type": "code",
   "execution_count": 9,
   "metadata": {
    "collapsed": false
   },
   "outputs": [
    {
     "data": {
      "text/plain": [
       "['Art 2 Abs 1 GG',\n",
       " '§\\xa06 CoronaVGrundV TH',\n",
       " ' §\\xa047 Abs 6 VwGO',\n",
       " ' §\\xa032 IfSG',\n",
       " ' §\\xa028 IfSG']"
      ]
     },
     "execution_count": 9,
     "metadata": {},
     "output_type": "execute_result"
    }
   ],
   "source": [
    "df_court.iloc[0]['Norm'].split(\",\")"
   ]
  },
  {
   "cell_type": "code",
   "execution_count": 10,
   "metadata": {
    "collapsed": false
   },
   "outputs": [
    {
     "name": "stdout",
     "output_type": "stream",
     "text": [
      "249581\n"
     ]
    }
   ],
   "source": [
    "# Iterate over the rows of the dataframe\n",
    "count = 0\n",
    "for index, row in df_court.iterrows():\n",
    "    if row['Norm'] != None or row['Norm'] != '' or row['Norm'] != ' ':\n",
    "        count += 1\n",
    "\n",
    "print(count)"
   ]
  },
  {
   "cell_type": "code",
   "execution_count": 18,
   "metadata": {
    "collapsed": false
   },
   "outputs": [
    {
     "name": "stdout",
     "output_type": "stream",
     "text": [
      "2212277\n"
     ]
    }
   ],
   "source": [
    "print(sum([sum([\"§\" in s for s in row['Norm'].split(\",\")]) if not row['Norm'] == None else 0 for index, row in df_court.iterrows()]))"
   ]
  },
  {
   "cell_type": "code",
   "execution_count": 20,
   "metadata": {
    "collapsed": false
   },
   "outputs": [
    {
     "data": {
      "text/plain": [
       "8.863964003670151"
      ]
     },
     "execution_count": 20,
     "metadata": {},
     "output_type": "execute_result"
    }
   ],
   "source": [
    "2212277/len(df_court)"
   ]
  },
  {
   "cell_type": "markdown",
   "metadata": {
    "collapsed": false
   },
   "source": [
    "There are 2212277 legal paragraphs in the court decisions. On average there are 8.86 legal paragraphs tagged in a court decision"
   ]
  }
 ],
 "metadata": {
  "kernelspec": {
   "display_name": "Python 3",
   "language": "python",
   "name": "python3"
  },
  "language_info": {
   "codemirror_mode": {
    "name": "ipython",
    "version": 3
   },
   "file_extension": ".py",
   "mimetype": "text/x-python",
   "name": "python",
   "nbconvert_exporter": "python",
   "pygments_lexer": "ipython3",
   "version": "3.9.19"
  }
 },
 "nbformat": 4,
 "nbformat_minor": 0
}
